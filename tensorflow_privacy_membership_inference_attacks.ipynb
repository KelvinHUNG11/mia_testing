{
  "cells": [
    {
      "cell_type": "markdown",
      "metadata": {
        "id": "pzxBi46nuGpc"
      },
      "source": [
        "# A simple example on doing Membership Inference Attacks with TensorFlow Privacy\n",
        "\n",
        "This code is tested to work with:\n",
        "- Python 3.7\n",
        "- TensorFlow 2.7\n",
        "- TensorFlow Privacy 0.7.3\n",
        "\n"
      ]
    },
    {
      "cell_type": "code",
      "execution_count": 1,
      "metadata": {
        "id": "MDq0t_BaxkTo"
      },
      "outputs": [
        {
          "name": "stderr",
          "output_type": "stream",
          "text": [
            "2024-06-03 14:20:45.585638: I tensorflow/core/platform/cpu_feature_guard.cc:182] This TensorFlow binary is optimized to use available CPU instructions in performance-critical operations.\n",
            "To enable the following instructions: AVX2 FMA, in other operations, rebuild TensorFlow with the appropriate compiler flags.\n"
          ]
        }
      ],
      "source": [
        "# general imports\n",
        "import numpy as np\n",
        "import matplotlib.pyplot as plt\n",
        "import tensorflow as tf\n",
        "\n",
        "# tensorflow imports\n",
        "from tensorflow.keras.layers import Input, Conv2D, Dense, Flatten, MaxPooling2D,Dropout\n",
        "from tensorflow.keras.models import Model\n",
        "from tensorflow.keras.utils import to_categorical"
      ]
    },
    {
      "cell_type": "code",
      "execution_count": null,
      "metadata": {
        "colab": {
          "base_uri": "https://localhost:8080/"
        },
        "id": "OoxPhINBbZIh",
        "outputId": "0032cbf5-bf86-4404-b18e-2a65afcbb166"
      },
      "outputs": [],
      "source": [
        "# install the most recent verson of tensorflow-privacy\n",
        "#!pip install -U git+https://github.com/tensorflow/privacy\n"
      ]
    },
    {
      "cell_type": "code",
      "execution_count": 3,
      "metadata": {
        "id": "MgRT6LDCv_bb"
      },
      "outputs": [],
      "source": [
        "# tensorflow-privacy \n",
        "from tensorflow_privacy.privacy.privacy_tests.membership_inference_attack import membership_inference_attack as mia\n",
        "from tensorflow_privacy.privacy.privacy_tests.membership_inference_attack.data_structures import AttackInputData\n",
        "from tensorflow_privacy.privacy.privacy_tests.membership_inference_attack.data_structures import AttackType\n",
        "from tensorflow_privacy.privacy.privacy_tests.membership_inference_attack.data_structures import SlicingSpec"
      ]
    },
    {
      "cell_type": "markdown",
      "metadata": {
        "id": "EWjCSLMyuPTs"
      },
      "source": [
        "## Some helper methods"
      ]
    },
    {
      "cell_type": "code",
      "execution_count": 4,
      "metadata": {
        "id": "C5CokfVFyQzL"
      },
      "outputs": [],
      "source": [
        "def load_cifar10():\n",
        "  \"\"\"Loads MNIST-Dataset and preprocesses to combine training and test data.\"\"\"\n",
        "  \n",
        "  # load the existing CIFAR10 dataset that comes in form of traing + test data and labels\n",
        "  train, test = tf.keras.datasets.cifar10.load_data()\n",
        "  train_data, train_labels = train\n",
        "  test_data, test_labels = test\n",
        "\n",
        "  # scale the images from color values 0-255 to numbers from 0-1 to help the training process\n",
        "  train_data = np.array(train_data, dtype=np.float32) / 255\n",
        "  test_data = np.array(test_data, dtype=np.float32) / 255\n",
        "\n",
        "  # cifar10 labels come one-hot encoded, there\n",
        "  train_labels = train_labels.flatten()\n",
        "  test_labels = test_labels.flatten()\n",
        "\n",
        "  return train_data, train_labels, test_data, test_labels\n",
        " \n",
        "def make_simple_model():\n",
        "  \"\"\" Define a Keras model without much of regularization\n",
        "  Such a model is prone to overfitting\"\"\"\n",
        "  shape = (32, 32, 3)\n",
        "  i = Input(shape=shape)\n",
        "  x = Conv2D(32, (3, 3), activation='relu')(i)\n",
        "  x = MaxPooling2D()(x)\n",
        "\n",
        "  x = Conv2D(64, (3, 3), activation='relu')(x)\n",
        "  x = MaxPooling2D()(x)\n",
        "\n",
        "  x = Conv2D(64, (3, 3), activation='relu')(x)\n",
        "  x = MaxPooling2D()(x)\n",
        "\n",
        "  x = Flatten()(x)\n",
        "  x = Dense(128, activation='relu')(x)\n",
        "  # if we don't specify an activation for the last layer, we can have the logits\n",
        "  x = Dense(10)(x)\n",
        "  model = Model(i, x)\n",
        "  return model"
      ]
    },
    {
      "cell_type": "code",
      "execution_count": 5,
      "metadata": {
        "colab": {
          "base_uri": "https://localhost:8080/"
        },
        "id": "oSaW9ZgVyjwj",
        "outputId": "04063a86-b3e8-4e08-f85e-e9f23693e100"
      },
      "outputs": [],
      "source": [
        "train_data, train_labels, test_data, test_labels = load_cifar10()"
      ]
    },
    {
      "cell_type": "code",
      "execution_count": 6,
      "metadata": {
        "colab": {
          "base_uri": "https://localhost:8080/",
          "height": 251
        },
        "id": "18XktG-92oe-",
        "outputId": "b42f84d2-be17-4ee0-98b3-b6dc018fc1aa"
      },
      "outputs": [
        {
          "data": {
            "image/png": "[encoded data removed]",
            "text/plain": [
              "<Figure size 750x400 with 10 Axes>"
            ]
          },
          "metadata": {},
          "output_type": "display_data"
        }
      ],
      "source": [
        "# show some train data\n",
        "num_row = 2\n",
        "num_col = 5\n",
        "fig, axes = plt.subplots(num_row, num_col, figsize=(1.5*num_col,2*num_row))\n",
        "for i in range(10):\n",
        "    ax = axes[i//num_col, i%num_col]\n",
        "    ax.set_axis_off()\n",
        "    ax.imshow(train_data[i])\n",
        "\n",
        "plt.tight_layout()\n",
        "plt.show()"
      ]
    },
    {
      "cell_type": "code",
      "execution_count": 7,
      "metadata": {
        "colab": {
          "base_uri": "https://localhost:8080/"
        },
        "id": "s_W2k3ARysJD",
        "outputId": "1519d11b-d647-43e5-e3bf-749d2951db80"
      },
      "outputs": [
        {
          "name": "stdout",
          "output_type": "stream",
          "text": [
            "Model: \"model\"\n",
            "_________________________________________________________________\n",
            " Layer (type)                Output Shape              Param #   \n",
            "=================================================================\n",
            " input_1 (InputLayer)        [(None, 32, 32, 3)]       0         \n",
            "                                                                 \n",
            " conv2d (Conv2D)             (None, 30, 30, 32)        896       \n",
            "                                                                 \n",
            " max_pooling2d (MaxPooling2  (None, 15, 15, 32)        0         \n",
            " D)                                                              \n",
            "                                                                 \n",
            " conv2d_1 (Conv2D)           (None, 13, 13, 64)        18496     \n",
            "                                                                 \n",
            " max_pooling2d_1 (MaxPoolin  (None, 6, 6, 64)          0         \n",
            " g2D)                                                            \n",
            "                                                                 \n",
            " conv2d_2 (Conv2D)           (None, 4, 4, 64)          36928     \n",
            "                                                                 \n",
            " max_pooling2d_2 (MaxPoolin  (None, 2, 2, 64)          0         \n",
            " g2D)                                                            \n",
            "                                                                 \n",
            " flatten (Flatten)           (None, 256)               0         \n",
            "                                                                 \n",
            " dense (Dense)               (None, 128)               32896     \n",
            "                                                                 \n",
            " dense_1 (Dense)             (None, 10)                1290      \n",
            "                                                                 \n",
            "=================================================================\n",
            "Total params: 90506 (353.54 KB)\n",
            "Trainable params: 90506 (353.54 KB)\n",
            "Non-trainable params: 0 (0.00 Byte)\n",
            "_________________________________________________________________\n"
          ]
        }
      ],
      "source": [
        "# make the neural network model with the function specified above.\n",
        "# one model is supposed to train for 10, one for 50 epochs\n",
        "model = make_simple_model()\n",
        "model.summary()"
      ]
    },
    {
      "cell_type": "code",
      "execution_count": 8,
      "metadata": {
        "id": "8TBgM6JnyvIZ"
      },
      "outputs": [],
      "source": [
        "# specify parameters\n",
        "optimizer = tf.keras.optimizers.Adam()\n",
        "loss = tf.keras.losses.SparseCategoricalCrossentropy(from_logits=True)\n",
        "\n",
        "# compile the model\n",
        "model.compile(optimizer=optimizer, loss=loss, metrics=['accuracy'])"
      ]
    },
    {
      "cell_type": "markdown",
      "metadata": {
        "id": "l3KE3jTS1uQ0"
      },
      "source": [
        "## Model Training\n",
        "Train the model for 30 epochs. \n",
        "\n",
        "The idea is that we can use the TensorFlow Privacy Library on the trained models in order to quantify the membership inference risk respectively. \n"
      ]
    },
    {
      "cell_type": "code",
      "execution_count": 9,
      "metadata": {
        "colab": {
          "base_uri": "https://localhost:8080/"
        },
        "id": "peuB219bz5Rx",
        "outputId": "d49ea95d-6735-4561-e79d-42592f0a5865"
      },
      "outputs": [
        {
          "name": "stdout",
          "output_type": "stream",
          "text": [
            "Epoch 1/30\n",
            "391/391 [==============================] - 20s 49ms/step - loss: 1.6888 - accuracy: 0.3818 - val_loss: 1.4573 - val_accuracy: 0.4631\n",
            "Epoch 2/30\n",
            "391/391 [==============================] - 19s 49ms/step - loss: 1.3421 - accuracy: 0.5157 - val_loss: 1.2439 - val_accuracy: 0.5532\n",
            "Epoch 3/30\n",
            "391/391 [==============================] - 20s 50ms/step - loss: 1.1847 - accuracy: 0.5816 - val_loss: 1.1147 - val_accuracy: 0.6042\n",
            "Epoch 4/30\n",
            "391/391 [==============================] - 20s 51ms/step - loss: 1.0840 - accuracy: 0.6181 - val_loss: 1.0810 - val_accuracy: 0.6205\n",
            "Epoch 5/30\n",
            "391/391 [==============================] - 21s 54ms/step - loss: 1.0019 - accuracy: 0.6505 - val_loss: 1.0412 - val_accuracy: 0.6434\n",
            "Epoch 6/30\n",
            "391/391 [==============================] - 22s 57ms/step - loss: 0.9389 - accuracy: 0.6725 - val_loss: 1.0774 - val_accuracy: 0.6400\n",
            "Epoch 7/30\n",
            "391/391 [==============================] - 21s 55ms/step - loss: 0.8876 - accuracy: 0.6900 - val_loss: 0.9367 - val_accuracy: 0.6770\n",
            "Epoch 8/30\n",
            "391/391 [==============================] - 22s 57ms/step - loss: 0.8476 - accuracy: 0.7054 - val_loss: 0.9256 - val_accuracy: 0.6867\n",
            "Epoch 9/30\n",
            "391/391 [==============================] - 21s 54ms/step - loss: 0.8000 - accuracy: 0.7223 - val_loss: 0.8949 - val_accuracy: 0.6974\n",
            "Epoch 10/30\n",
            "391/391 [==============================] - 21s 55ms/step - loss: 0.7664 - accuracy: 0.7331 - val_loss: 0.9347 - val_accuracy: 0.6811\n",
            "Epoch 11/30\n",
            "391/391 [==============================] - 22s 55ms/step - loss: 0.7328 - accuracy: 0.7461 - val_loss: 0.8789 - val_accuracy: 0.7028\n",
            "Epoch 12/30\n",
            "391/391 [==============================] - 20s 52ms/step - loss: 0.7024 - accuracy: 0.7576 - val_loss: 0.8770 - val_accuracy: 0.7051\n",
            "Epoch 13/30\n",
            "391/391 [==============================] - 20s 52ms/step - loss: 0.6760 - accuracy: 0.7645 - val_loss: 0.9038 - val_accuracy: 0.6933\n",
            "Epoch 14/30\n",
            "391/391 [==============================] - 22s 55ms/step - loss: 0.6452 - accuracy: 0.7764 - val_loss: 0.8665 - val_accuracy: 0.7107\n",
            "Epoch 15/30\n",
            "391/391 [==============================] - 21s 53ms/step - loss: 0.6259 - accuracy: 0.7821 - val_loss: 0.9102 - val_accuracy: 0.7040\n",
            "Epoch 16/30\n",
            "391/391 [==============================] - 21s 54ms/step - loss: 0.6018 - accuracy: 0.7904 - val_loss: 0.9203 - val_accuracy: 0.6987\n",
            "Epoch 17/30\n",
            "391/391 [==============================] - 21s 53ms/step - loss: 0.5837 - accuracy: 0.7985 - val_loss: 0.8737 - val_accuracy: 0.7110\n",
            "Epoch 18/30\n",
            "391/391 [==============================] - 21s 53ms/step - loss: 0.5617 - accuracy: 0.8040 - val_loss: 0.8717 - val_accuracy: 0.7140\n",
            "Epoch 19/30\n",
            "391/391 [==============================] - 20s 52ms/step - loss: 0.5350 - accuracy: 0.8130 - val_loss: 0.8719 - val_accuracy: 0.7203\n",
            "Epoch 20/30\n",
            "391/391 [==============================] - 21s 55ms/step - loss: 0.5106 - accuracy: 0.8224 - val_loss: 0.9307 - val_accuracy: 0.7100\n",
            "Epoch 21/30\n",
            "391/391 [==============================] - 21s 54ms/step - loss: 0.4972 - accuracy: 0.8262 - val_loss: 0.9238 - val_accuracy: 0.7137\n",
            "Epoch 22/30\n",
            "391/391 [==============================] - 20s 52ms/step - loss: 0.4810 - accuracy: 0.8305 - val_loss: 0.9018 - val_accuracy: 0.7210\n",
            "Epoch 23/30\n",
            "391/391 [==============================] - 19s 50ms/step - loss: 0.4566 - accuracy: 0.8425 - val_loss: 0.9622 - val_accuracy: 0.7019\n",
            "Epoch 24/30\n",
            "391/391 [==============================] - 21s 53ms/step - loss: 0.4420 - accuracy: 0.8453 - val_loss: 0.9372 - val_accuracy: 0.7188\n",
            "Epoch 25/30\n",
            "391/391 [==============================] - 21s 53ms/step - loss: 0.4297 - accuracy: 0.8497 - val_loss: 0.9608 - val_accuracy: 0.7205\n",
            "Epoch 26/30\n",
            "391/391 [==============================] - 21s 53ms/step - loss: 0.4059 - accuracy: 0.8581 - val_loss: 0.9927 - val_accuracy: 0.7137\n",
            "Epoch 27/30\n",
            "391/391 [==============================] - 19s 49ms/step - loss: 0.3909 - accuracy: 0.8621 - val_loss: 0.9723 - val_accuracy: 0.7180\n",
            "Epoch 28/30\n",
            "391/391 [==============================] - 19s 50ms/step - loss: 0.3731 - accuracy: 0.8699 - val_loss: 1.0251 - val_accuracy: 0.7126\n",
            "Epoch 29/30\n",
            "391/391 [==============================] - 20s 52ms/step - loss: 0.3565 - accuracy: 0.8746 - val_loss: 1.0660 - val_accuracy: 0.7118\n",
            "Epoch 30/30\n",
            "391/391 [==============================] - 19s 50ms/step - loss: 0.3510 - accuracy: 0.8757 - val_loss: 1.0526 - val_accuracy: 0.7161\n"
          ]
        }
      ],
      "source": [
        "# train the model\n",
        "history = model.fit(train_data, train_labels,\n",
        "                       validation_data=(test_data, test_labels),\n",
        "                       batch_size=128, \n",
        "                       epochs=30)"
      ]
    },
    {
      "cell_type": "code",
      "execution_count": 10,
      "metadata": {
        "colab": {
          "base_uri": "https://localhost:8080/",
          "height": 287
        },
        "id": "8K1L5TXNaywC",
        "outputId": "5cb45d3e-a14c-43cd-bd12-79ddf6ad0251"
      },
      "outputs": [
        {
          "data": {
            "text/plain": [
              "(0.0, 1.0)"
            ]
          },
          "execution_count": 10,
          "metadata": {},
          "output_type": "execute_result"
        },
        {
          "data": {
            "image/png": "[encoded data removed]",
            "text/plain": [
              "<Figure size 640x480 with 1 Axes>"
            ]
          },
          "metadata": {},
          "output_type": "display_data"
        }
      ],
      "source": [
        "# plot accuracy for the first model\n",
        "plt.plot(history.history['accuracy'], label='acc')\n",
        "plt.plot(history.history['val_accuracy'], label='val_acc')\n",
        "plt.legend();\n",
        "plt.ylim(0,1)"
      ]
    },
    {
      "cell_type": "markdown",
      "metadata": {
        "id": "mSlPtC6sdFB7"
      },
      "source": [
        "### Attack on the model"
      ]
    },
    {
      "cell_type": "code",
      "execution_count": 11,
      "metadata": {
        "colab": {
          "base_uri": "https://localhost:8080/"
        },
        "id": "85Gp2BEa2H6d",
        "outputId": "2aa04464-6c8f-4616-f4e7-c631cd5c8ceb"
      },
      "outputs": [
        {
          "name": "stdout",
          "output_type": "stream",
          "text": [
            "Predict on train...\n",
            "1563/1563 [==============================] - 17s 11ms/step\n",
            "Predict on test...\n",
            "313/313 [==============================] - 3s 10ms/step\n",
            "Apply softmax to get probabilities from logits...\n",
            "Compute losses...\n"
          ]
        }
      ],
      "source": [
        "# since we have not specified an activation function on the last layer\n",
        "# calling the predict function returns the logits\n",
        "print('Predict on train...')\n",
        "logits_train = model.predict(train_data)\n",
        "print('Predict on test...')\n",
        "logits_test = model.predict(test_data)\n",
        "\n",
        "print('Apply softmax to get probabilities from logits...')\n",
        "prob_train = tf.nn.softmax(logits_train, axis=-1)\n",
        "prob_test = tf.nn.softmax(logits_test)\n",
        "\n",
        "print('Compute losses...')\n",
        "cce = tf.keras.backend.categorical_crossentropy\n",
        "constant = tf.keras.backend.constant\n",
        "\n",
        "y_train_onehot = to_categorical(train_labels)\n",
        "y_test_onehot = to_categorical(test_labels)\n",
        "\n",
        "loss_train = cce(constant(y_train_onehot), constant(prob_train), from_logits=False).numpy()\n",
        "loss_test = cce(constant(y_test_onehot), constant(prob_test), from_logits=False).numpy()"
      ]
    },
    {
      "cell_type": "code",
      "execution_count": 12,
      "metadata": {
        "id": "UBELqg332H9G"
      },
      "outputs": [],
      "source": [
        "# define what variables our attacker should have access to\n",
        "attack_input = AttackInputData(\n",
        "  logits_train = logits_train,\n",
        "  logits_test = logits_test,\n",
        "  loss_train = loss_train,\n",
        "  loss_test = loss_test,\n",
        "  labels_train = train_labels,\n",
        "  labels_test = test_labels\n",
        ")"
      ]
    },
    {
      "cell_type": "code",
      "execution_count": 13,
      "metadata": {
        "id": "9V2kEojxaM6p"
      },
      "outputs": [],
      "source": [
        "# how should the data be sliced\n",
        "slicing_spec = SlicingSpec(\n",
        "    entire_dataset = True,\n",
        "    by_class = True,\n",
        "    by_percentiles = False,\n",
        "    by_classification_correctness = True)"
      ]
    },
    {
      "cell_type": "code",
      "execution_count": 14,
      "metadata": {
        "id": "3ZQ9yjutaOxI"
      },
      "outputs": [],
      "source": [
        "# define the type of attacker model that we want to use\n",
        "attack_types = [\n",
        "    AttackType.THRESHOLD_ATTACK,\n",
        "    AttackType.LOGISTIC_REGRESSION\n",
        "]"
      ]
    },
    {
      "cell_type": "code",
      "execution_count": 15,
      "metadata": {
        "id": "7sHGoinv2H_p"
      },
      "outputs": [
        {
          "name": "stderr",
          "output_type": "stream",
          "text": [
            "/opt/anaconda3/lib/python3.9/site-packages/tensorflow_privacy/privacy/privacy_tests/epsilon_lower_bound.py:334: RuntimeWarning: divide by zero encountered in divide\n",
            "  power_3_term_numer = 1 + self._z / 3 * np.sqrt(fnr / tp + tnr / fp -\n",
            "/opt/anaconda3/lib/python3.9/site-packages/tensorflow_privacy/privacy/privacy_tests/epsilon_lower_bound.py:335: RuntimeWarning: divide by zero encountered in divide\n",
            "  (self._z**2 * fnr * tnr) /\n",
            "/opt/anaconda3/lib/python3.9/site-packages/tensorflow_privacy/privacy/privacy_tests/epsilon_lower_bound.py:334: RuntimeWarning: invalid value encountered in subtract\n",
            "  power_3_term_numer = 1 + self._z / 3 * np.sqrt(fnr / tp + tnr / fp -\n",
            "/opt/anaconda3/lib/python3.9/site-packages/tensorflow_privacy/privacy/privacy_tests/epsilon_lower_bound.py:334: RuntimeWarning: divide by zero encountered in divide\n",
            "  power_3_term_numer = 1 + self._z / 3 * np.sqrt(fnr / tp + tnr / fp -\n",
            "/opt/anaconda3/lib/python3.9/site-packages/tensorflow_privacy/privacy/privacy_tests/epsilon_lower_bound.py:335: RuntimeWarning: divide by zero encountered in divide\n",
            "  (self._z**2 * fnr * tnr) /\n",
            "/opt/anaconda3/lib/python3.9/site-packages/tensorflow_privacy/privacy/privacy_tests/epsilon_lower_bound.py:334: RuntimeWarning: invalid value encountered in subtract\n",
            "  power_3_term_numer = 1 + self._z / 3 * np.sqrt(fnr / tp + tnr / fp -\n",
            "/opt/anaconda3/lib/python3.9/site-packages/tensorflow_privacy/privacy/privacy_tests/epsilon_lower_bound.py:334: RuntimeWarning: divide by zero encountered in divide\n",
            "  power_3_term_numer = 1 + self._z / 3 * np.sqrt(fnr / tp + tnr / fp -\n",
            "/opt/anaconda3/lib/python3.9/site-packages/tensorflow_privacy/privacy/privacy_tests/epsilon_lower_bound.py:335: RuntimeWarning: divide by zero encountered in divide\n",
            "  (self._z**2 * fnr * tnr) /\n",
            "/opt/anaconda3/lib/python3.9/site-packages/tensorflow_privacy/privacy/privacy_tests/epsilon_lower_bound.py:334: RuntimeWarning: invalid value encountered in subtract\n",
            "  power_3_term_numer = 1 + self._z / 3 * np.sqrt(fnr / tp + tnr / fp -\n",
            "/opt/anaconda3/lib/python3.9/site-packages/tensorflow_privacy/privacy/privacy_tests/epsilon_lower_bound.py:334: RuntimeWarning: divide by zero encountered in divide\n",
            "  power_3_term_numer = 1 + self._z / 3 * np.sqrt(fnr / tp + tnr / fp -\n",
            "/opt/anaconda3/lib/python3.9/site-packages/tensorflow_privacy/privacy/privacy_tests/epsilon_lower_bound.py:335: RuntimeWarning: divide by zero encountered in divide\n",
            "  (self._z**2 * fnr * tnr) /\n",
            "/opt/anaconda3/lib/python3.9/site-packages/tensorflow_privacy/privacy/privacy_tests/epsilon_lower_bound.py:334: RuntimeWarning: invalid value encountered in subtract\n",
            "  power_3_term_numer = 1 + self._z / 3 * np.sqrt(fnr / tp + tnr / fp -\n",
            "/opt/anaconda3/lib/python3.9/site-packages/tensorflow_privacy/privacy/privacy_tests/epsilon_lower_bound.py:334: RuntimeWarning: divide by zero encountered in divide\n",
            "  power_3_term_numer = 1 + self._z / 3 * np.sqrt(fnr / tp + tnr / fp -\n",
            "/opt/anaconda3/lib/python3.9/site-packages/tensorflow_privacy/privacy/privacy_tests/epsilon_lower_bound.py:335: RuntimeWarning: divide by zero encountered in divide\n",
            "  (self._z**2 * fnr * tnr) /\n",
            "/opt/anaconda3/lib/python3.9/site-packages/tensorflow_privacy/privacy/privacy_tests/epsilon_lower_bound.py:334: RuntimeWarning: invalid value encountered in subtract\n",
            "  power_3_term_numer = 1 + self._z / 3 * np.sqrt(fnr / tp + tnr / fp -\n",
            "/opt/anaconda3/lib/python3.9/site-packages/tensorflow_privacy/privacy/privacy_tests/epsilon_lower_bound.py:334: RuntimeWarning: divide by zero encountered in divide\n",
            "  power_3_term_numer = 1 + self._z / 3 * np.sqrt(fnr / tp + tnr / fp -\n",
            "/opt/anaconda3/lib/python3.9/site-packages/tensorflow_privacy/privacy/privacy_tests/epsilon_lower_bound.py:335: RuntimeWarning: divide by zero encountered in divide\n",
            "  (self._z**2 * fnr * tnr) /\n",
            "/opt/anaconda3/lib/python3.9/site-packages/tensorflow_privacy/privacy/privacy_tests/epsilon_lower_bound.py:334: RuntimeWarning: invalid value encountered in subtract\n",
            "  power_3_term_numer = 1 + self._z / 3 * np.sqrt(fnr / tp + tnr / fp -\n",
            "/opt/anaconda3/lib/python3.9/site-packages/tensorflow_privacy/privacy/privacy_tests/epsilon_lower_bound.py:334: RuntimeWarning: divide by zero encountered in divide\n",
            "  power_3_term_numer = 1 + self._z / 3 * np.sqrt(fnr / tp + tnr / fp -\n",
            "/opt/anaconda3/lib/python3.9/site-packages/tensorflow_privacy/privacy/privacy_tests/epsilon_lower_bound.py:335: RuntimeWarning: divide by zero encountered in divide\n",
            "  (self._z**2 * fnr * tnr) /\n",
            "/opt/anaconda3/lib/python3.9/site-packages/tensorflow_privacy/privacy/privacy_tests/epsilon_lower_bound.py:334: RuntimeWarning: invalid value encountered in subtract\n",
            "  power_3_term_numer = 1 + self._z / 3 * np.sqrt(fnr / tp + tnr / fp -\n",
            "/opt/anaconda3/lib/python3.9/site-packages/tensorflow_privacy/privacy/privacy_tests/epsilon_lower_bound.py:334: RuntimeWarning: divide by zero encountered in divide\n",
            "  power_3_term_numer = 1 + self._z / 3 * np.sqrt(fnr / tp + tnr / fp -\n",
            "/opt/anaconda3/lib/python3.9/site-packages/tensorflow_privacy/privacy/privacy_tests/epsilon_lower_bound.py:335: RuntimeWarning: divide by zero encountered in divide\n",
            "  (self._z**2 * fnr * tnr) /\n",
            "/opt/anaconda3/lib/python3.9/site-packages/tensorflow_privacy/privacy/privacy_tests/epsilon_lower_bound.py:334: RuntimeWarning: invalid value encountered in subtract\n",
            "  power_3_term_numer = 1 + self._z / 3 * np.sqrt(fnr / tp + tnr / fp -\n",
            "/opt/anaconda3/lib/python3.9/site-packages/tensorflow_privacy/privacy/privacy_tests/epsilon_lower_bound.py:334: RuntimeWarning: divide by zero encountered in divide\n",
            "  power_3_term_numer = 1 + self._z / 3 * np.sqrt(fnr / tp + tnr / fp -\n",
            "/opt/anaconda3/lib/python3.9/site-packages/tensorflow_privacy/privacy/privacy_tests/epsilon_lower_bound.py:335: RuntimeWarning: divide by zero encountered in divide\n",
            "  (self._z**2 * fnr * tnr) /\n",
            "/opt/anaconda3/lib/python3.9/site-packages/tensorflow_privacy/privacy/privacy_tests/epsilon_lower_bound.py:334: RuntimeWarning: invalid value encountered in subtract\n",
            "  power_3_term_numer = 1 + self._z / 3 * np.sqrt(fnr / tp + tnr / fp -\n",
            "/opt/anaconda3/lib/python3.9/site-packages/tensorflow_privacy/privacy/privacy_tests/epsilon_lower_bound.py:334: RuntimeWarning: divide by zero encountered in divide\n",
            "  power_3_term_numer = 1 + self._z / 3 * np.sqrt(fnr / tp + tnr / fp -\n",
            "/opt/anaconda3/lib/python3.9/site-packages/tensorflow_privacy/privacy/privacy_tests/epsilon_lower_bound.py:335: RuntimeWarning: divide by zero encountered in divide\n",
            "  (self._z**2 * fnr * tnr) /\n",
            "/opt/anaconda3/lib/python3.9/site-packages/tensorflow_privacy/privacy/privacy_tests/epsilon_lower_bound.py:334: RuntimeWarning: invalid value encountered in subtract\n",
            "  power_3_term_numer = 1 + self._z / 3 * np.sqrt(fnr / tp + tnr / fp -\n",
            "/opt/anaconda3/lib/python3.9/site-packages/tensorflow_privacy/privacy/privacy_tests/epsilon_lower_bound.py:334: RuntimeWarning: divide by zero encountered in divide\n",
            "  power_3_term_numer = 1 + self._z / 3 * np.sqrt(fnr / tp + tnr / fp -\n",
            "/opt/anaconda3/lib/python3.9/site-packages/tensorflow_privacy/privacy/privacy_tests/epsilon_lower_bound.py:335: RuntimeWarning: divide by zero encountered in divide\n",
            "  (self._z**2 * fnr * tnr) /\n",
            "/opt/anaconda3/lib/python3.9/site-packages/tensorflow_privacy/privacy/privacy_tests/epsilon_lower_bound.py:334: RuntimeWarning: invalid value encountered in subtract\n",
            "  power_3_term_numer = 1 + self._z / 3 * np.sqrt(fnr / tp + tnr / fp -\n",
            "/opt/anaconda3/lib/python3.9/site-packages/tensorflow_privacy/privacy/privacy_tests/epsilon_lower_bound.py:334: RuntimeWarning: divide by zero encountered in divide\n",
            "  power_3_term_numer = 1 + self._z / 3 * np.sqrt(fnr / tp + tnr / fp -\n",
            "/opt/anaconda3/lib/python3.9/site-packages/tensorflow_privacy/privacy/privacy_tests/epsilon_lower_bound.py:335: RuntimeWarning: divide by zero encountered in divide\n",
            "  (self._z**2 * fnr * tnr) /\n",
            "/opt/anaconda3/lib/python3.9/site-packages/tensorflow_privacy/privacy/privacy_tests/epsilon_lower_bound.py:334: RuntimeWarning: invalid value encountered in subtract\n",
            "  power_3_term_numer = 1 + self._z / 3 * np.sqrt(fnr / tp + tnr / fp -\n",
            "/opt/anaconda3/lib/python3.9/site-packages/tensorflow_privacy/privacy/privacy_tests/epsilon_lower_bound.py:334: RuntimeWarning: divide by zero encountered in divide\n",
            "  power_3_term_numer = 1 + self._z / 3 * np.sqrt(fnr / tp + tnr / fp -\n",
            "/opt/anaconda3/lib/python3.9/site-packages/tensorflow_privacy/privacy/privacy_tests/epsilon_lower_bound.py:335: RuntimeWarning: divide by zero encountered in divide\n",
            "  (self._z**2 * fnr * tnr) /\n",
            "/opt/anaconda3/lib/python3.9/site-packages/tensorflow_privacy/privacy/privacy_tests/epsilon_lower_bound.py:334: RuntimeWarning: invalid value encountered in subtract\n",
            "  power_3_term_numer = 1 + self._z / 3 * np.sqrt(fnr / tp + tnr / fp -\n",
            "/opt/anaconda3/lib/python3.9/site-packages/tensorflow_privacy/privacy/privacy_tests/epsilon_lower_bound.py:334: RuntimeWarning: divide by zero encountered in divide\n",
            "  power_3_term_numer = 1 + self._z / 3 * np.sqrt(fnr / tp + tnr / fp -\n",
            "/opt/anaconda3/lib/python3.9/site-packages/tensorflow_privacy/privacy/privacy_tests/epsilon_lower_bound.py:335: RuntimeWarning: divide by zero encountered in divide\n",
            "  (self._z**2 * fnr * tnr) /\n",
            "/opt/anaconda3/lib/python3.9/site-packages/tensorflow_privacy/privacy/privacy_tests/epsilon_lower_bound.py:334: RuntimeWarning: invalid value encountered in subtract\n",
            "  power_3_term_numer = 1 + self._z / 3 * np.sqrt(fnr / tp + tnr / fp -\n",
            "/opt/anaconda3/lib/python3.9/site-packages/tensorflow_privacy/privacy/privacy_tests/epsilon_lower_bound.py:334: RuntimeWarning: divide by zero encountered in divide\n",
            "  power_3_term_numer = 1 + self._z / 3 * np.sqrt(fnr / tp + tnr / fp -\n",
            "/opt/anaconda3/lib/python3.9/site-packages/tensorflow_privacy/privacy/privacy_tests/epsilon_lower_bound.py:335: RuntimeWarning: divide by zero encountered in divide\n",
            "  (self._z**2 * fnr * tnr) /\n",
            "/opt/anaconda3/lib/python3.9/site-packages/tensorflow_privacy/privacy/privacy_tests/epsilon_lower_bound.py:334: RuntimeWarning: invalid value encountered in subtract\n",
            "  power_3_term_numer = 1 + self._z / 3 * np.sqrt(fnr / tp + tnr / fp -\n",
            "/opt/anaconda3/lib/python3.9/site-packages/tensorflow_privacy/privacy/privacy_tests/epsilon_lower_bound.py:334: RuntimeWarning: divide by zero encountered in divide\n",
            "  power_3_term_numer = 1 + self._z / 3 * np.sqrt(fnr / tp + tnr / fp -\n",
            "/opt/anaconda3/lib/python3.9/site-packages/tensorflow_privacy/privacy/privacy_tests/epsilon_lower_bound.py:335: RuntimeWarning: divide by zero encountered in divide\n",
            "  (self._z**2 * fnr * tnr) /\n",
            "/opt/anaconda3/lib/python3.9/site-packages/tensorflow_privacy/privacy/privacy_tests/epsilon_lower_bound.py:334: RuntimeWarning: invalid value encountered in subtract\n",
            "  power_3_term_numer = 1 + self._z / 3 * np.sqrt(fnr / tp + tnr / fp -\n",
            "/opt/anaconda3/lib/python3.9/site-packages/tensorflow_privacy/privacy/privacy_tests/epsilon_lower_bound.py:334: RuntimeWarning: divide by zero encountered in divide\n",
            "  power_3_term_numer = 1 + self._z / 3 * np.sqrt(fnr / tp + tnr / fp -\n",
            "/opt/anaconda3/lib/python3.9/site-packages/tensorflow_privacy/privacy/privacy_tests/epsilon_lower_bound.py:335: RuntimeWarning: divide by zero encountered in divide\n",
            "  (self._z**2 * fnr * tnr) /\n",
            "/opt/anaconda3/lib/python3.9/site-packages/tensorflow_privacy/privacy/privacy_tests/epsilon_lower_bound.py:334: RuntimeWarning: invalid value encountered in subtract\n",
            "  power_3_term_numer = 1 + self._z / 3 * np.sqrt(fnr / tp + tnr / fp -\n",
            "/opt/anaconda3/lib/python3.9/site-packages/tensorflow_privacy/privacy/privacy_tests/epsilon_lower_bound.py:334: RuntimeWarning: divide by zero encountered in divide\n",
            "  power_3_term_numer = 1 + self._z / 3 * np.sqrt(fnr / tp + tnr / fp -\n",
            "/opt/anaconda3/lib/python3.9/site-packages/tensorflow_privacy/privacy/privacy_tests/epsilon_lower_bound.py:335: RuntimeWarning: divide by zero encountered in divide\n",
            "  (self._z**2 * fnr * tnr) /\n",
            "/opt/anaconda3/lib/python3.9/site-packages/tensorflow_privacy/privacy/privacy_tests/epsilon_lower_bound.py:334: RuntimeWarning: invalid value encountered in subtract\n",
            "  power_3_term_numer = 1 + self._z / 3 * np.sqrt(fnr / tp + tnr / fp -\n",
            "/opt/anaconda3/lib/python3.9/site-packages/tensorflow_privacy/privacy/privacy_tests/epsilon_lower_bound.py:334: RuntimeWarning: divide by zero encountered in divide\n",
            "  power_3_term_numer = 1 + self._z / 3 * np.sqrt(fnr / tp + tnr / fp -\n",
            "/opt/anaconda3/lib/python3.9/site-packages/tensorflow_privacy/privacy/privacy_tests/epsilon_lower_bound.py:335: RuntimeWarning: divide by zero encountered in divide\n",
            "  (self._z**2 * fnr * tnr) /\n",
            "/opt/anaconda3/lib/python3.9/site-packages/tensorflow_privacy/privacy/privacy_tests/epsilon_lower_bound.py:334: RuntimeWarning: invalid value encountered in subtract\n",
            "  power_3_term_numer = 1 + self._z / 3 * np.sqrt(fnr / tp + tnr / fp -\n",
            "/opt/anaconda3/lib/python3.9/site-packages/tensorflow_privacy/privacy/privacy_tests/epsilon_lower_bound.py:334: RuntimeWarning: divide by zero encountered in divide\n",
            "  power_3_term_numer = 1 + self._z / 3 * np.sqrt(fnr / tp + tnr / fp -\n",
            "/opt/anaconda3/lib/python3.9/site-packages/tensorflow_privacy/privacy/privacy_tests/epsilon_lower_bound.py:335: RuntimeWarning: divide by zero encountered in divide\n",
            "  (self._z**2 * fnr * tnr) /\n",
            "/opt/anaconda3/lib/python3.9/site-packages/tensorflow_privacy/privacy/privacy_tests/epsilon_lower_bound.py:334: RuntimeWarning: invalid value encountered in subtract\n",
            "  power_3_term_numer = 1 + self._z / 3 * np.sqrt(fnr / tp + tnr / fp -\n",
            "/opt/anaconda3/lib/python3.9/site-packages/tensorflow_privacy/privacy/privacy_tests/epsilon_lower_bound.py:334: RuntimeWarning: divide by zero encountered in divide\n",
            "  power_3_term_numer = 1 + self._z / 3 * np.sqrt(fnr / tp + tnr / fp -\n",
            "/opt/anaconda3/lib/python3.9/site-packages/tensorflow_privacy/privacy/privacy_tests/epsilon_lower_bound.py:335: RuntimeWarning: divide by zero encountered in divide\n",
            "  (self._z**2 * fnr * tnr) /\n",
            "/opt/anaconda3/lib/python3.9/site-packages/tensorflow_privacy/privacy/privacy_tests/epsilon_lower_bound.py:334: RuntimeWarning: invalid value encountered in subtract\n",
            "  power_3_term_numer = 1 + self._z / 3 * np.sqrt(fnr / tp + tnr / fp -\n",
            "/opt/anaconda3/lib/python3.9/site-packages/tensorflow_privacy/privacy/privacy_tests/epsilon_lower_bound.py:334: RuntimeWarning: divide by zero encountered in divide\n",
            "  power_3_term_numer = 1 + self._z / 3 * np.sqrt(fnr / tp + tnr / fp -\n",
            "/opt/anaconda3/lib/python3.9/site-packages/tensorflow_privacy/privacy/privacy_tests/epsilon_lower_bound.py:335: RuntimeWarning: divide by zero encountered in divide\n",
            "  (self._z**2 * fnr * tnr) /\n",
            "/opt/anaconda3/lib/python3.9/site-packages/tensorflow_privacy/privacy/privacy_tests/epsilon_lower_bound.py:334: RuntimeWarning: invalid value encountered in subtract\n",
            "  power_3_term_numer = 1 + self._z / 3 * np.sqrt(fnr / tp + tnr / fp -\n",
            "/opt/anaconda3/lib/python3.9/site-packages/tensorflow_privacy/privacy/privacy_tests/epsilon_lower_bound.py:334: RuntimeWarning: divide by zero encountered in divide\n",
            "  power_3_term_numer = 1 + self._z / 3 * np.sqrt(fnr / tp + tnr / fp -\n",
            "/opt/anaconda3/lib/python3.9/site-packages/tensorflow_privacy/privacy/privacy_tests/epsilon_lower_bound.py:335: RuntimeWarning: divide by zero encountered in divide\n",
            "  (self._z**2 * fnr * tnr) /\n",
            "/opt/anaconda3/lib/python3.9/site-packages/tensorflow_privacy/privacy/privacy_tests/epsilon_lower_bound.py:334: RuntimeWarning: invalid value encountered in subtract\n",
            "  power_3_term_numer = 1 + self._z / 3 * np.sqrt(fnr / tp + tnr / fp -\n",
            "/opt/anaconda3/lib/python3.9/site-packages/tensorflow_privacy/privacy/privacy_tests/epsilon_lower_bound.py:334: RuntimeWarning: divide by zero encountered in divide\n",
            "  power_3_term_numer = 1 + self._z / 3 * np.sqrt(fnr / tp + tnr / fp -\n",
            "/opt/anaconda3/lib/python3.9/site-packages/tensorflow_privacy/privacy/privacy_tests/epsilon_lower_bound.py:335: RuntimeWarning: divide by zero encountered in divide\n",
            "  (self._z**2 * fnr * tnr) /\n",
            "/opt/anaconda3/lib/python3.9/site-packages/tensorflow_privacy/privacy/privacy_tests/epsilon_lower_bound.py:334: RuntimeWarning: invalid value encountered in subtract\n",
            "  power_3_term_numer = 1 + self._z / 3 * np.sqrt(fnr / tp + tnr / fp -\n",
            "/opt/anaconda3/lib/python3.9/site-packages/tensorflow_privacy/privacy/privacy_tests/epsilon_lower_bound.py:334: RuntimeWarning: divide by zero encountered in divide\n",
            "  power_3_term_numer = 1 + self._z / 3 * np.sqrt(fnr / tp + tnr / fp -\n",
            "/opt/anaconda3/lib/python3.9/site-packages/tensorflow_privacy/privacy/privacy_tests/epsilon_lower_bound.py:335: RuntimeWarning: divide by zero encountered in divide\n",
            "  (self._z**2 * fnr * tnr) /\n",
            "/opt/anaconda3/lib/python3.9/site-packages/tensorflow_privacy/privacy/privacy_tests/epsilon_lower_bound.py:334: RuntimeWarning: invalid value encountered in subtract\n",
            "  power_3_term_numer = 1 + self._z / 3 * np.sqrt(fnr / tp + tnr / fp -\n",
            "/opt/anaconda3/lib/python3.9/site-packages/tensorflow_privacy/privacy/privacy_tests/epsilon_lower_bound.py:334: RuntimeWarning: divide by zero encountered in divide\n",
            "  power_3_term_numer = 1 + self._z / 3 * np.sqrt(fnr / tp + tnr / fp -\n",
            "/opt/anaconda3/lib/python3.9/site-packages/tensorflow_privacy/privacy/privacy_tests/epsilon_lower_bound.py:335: RuntimeWarning: divide by zero encountered in divide\n",
            "  (self._z**2 * fnr * tnr) /\n",
            "/opt/anaconda3/lib/python3.9/site-packages/tensorflow_privacy/privacy/privacy_tests/epsilon_lower_bound.py:334: RuntimeWarning: invalid value encountered in subtract\n",
            "  power_3_term_numer = 1 + self._z / 3 * np.sqrt(fnr / tp + tnr / fp -\n"
          ]
        }
      ],
      "source": [
        "# run the attack\n",
        "attacks_result = mia.run_attacks(attack_input=attack_input,\n",
        "                                 slicing_spec=slicing_spec,\n",
        "                                 attack_types=attack_types)"
      ]
    },
    {
      "cell_type": "code",
      "execution_count": 16,
      "metadata": {
        "colab": {
          "base_uri": "https://localhost:8080/"
        },
        "id": "HTiuk8jCdltB",
        "outputId": "67b45c37-cc01-4510-c7a4-d0fbf6385b22"
      },
      "outputs": [
        {
          "name": "stdout",
          "output_type": "stream",
          "text": [
            "Best-performing attacks over all slices\n",
            "  LOGISTIC_REGRESSION (with 5114 training and 2839 test examples) achieved an AUC of 0.72 on slice CORRECTLY_CLASSIFIED=False\n",
            "  THRESHOLD_ATTACK (with 5114 training and 2839 test examples) achieved an advantage of 0.34 on slice CORRECTLY_CLASSIFIED=False\n",
            "  LOGISTIC_REGRESSION (with 5000 training and 1000 test examples) achieved a positive predictive value of 1.00 on slice CLASS=0\n",
            "  LOGISTIC_REGRESSION (with 50000 training and 10000 test examples) achieved top-5 epsilon lower bounds of 5.0580, 5.0494, 5.0407, 5.0320, 5.0232 on slice Entire dataset\n",
            "\n",
            "Best-performing attacks over slice: \"Entire dataset\"\n",
            "  THRESHOLD_ATTACK (with 50000 training and 10000 test examples) achieved an AUC of 0.59\n",
            "  LOGISTIC_REGRESSION (with 50000 training and 10000 test examples) achieved an advantage of 0.19\n",
            "  LOGISTIC_REGRESSION (with 50000 training and 10000 test examples) achieved a positive predictive value of 0.86\n",
            "  LOGISTIC_REGRESSION (with 50000 training and 10000 test examples) achieved top-5 epsilon lower bounds of 5.0580, 5.0494, 5.0407, 5.0320, 5.0232\n",
            "\n",
            "Best-performing attacks over slice: \"CLASS=0\"\n",
            "  LOGISTIC_REGRESSION (with 5000 training and 1000 test examples) achieved an AUC of 0.60\n",
            "  THRESHOLD_ATTACK (with 5000 training and 1000 test examples) achieved an advantage of 0.17\n",
            "  LOGISTIC_REGRESSION (with 5000 training and 1000 test examples) achieved a positive predictive value of 1.00\n",
            "  LOGISTIC_REGRESSION (with 5000 training and 1000 test examples) achieved top-5 epsilon lower bounds of 3.9822, 3.9483, 3.9132, 3.8768, 3.8391\n",
            "\n",
            "Best-performing attacks over slice: \"CLASS=1\"\n",
            "  LOGISTIC_REGRESSION (with 5000 training and 1000 test examples) achieved an AUC of 0.56\n",
            "  THRESHOLD_ATTACK (with 5000 training and 1000 test examples) achieved an advantage of 0.15\n",
            "  LOGISTIC_REGRESSION (with 5000 training and 1000 test examples) achieved a positive predictive value of 0.86\n",
            "  THRESHOLD_ATTACK (with 5000 training and 1000 test examples) achieved top-5 epsilon lower bounds of 3.3794, 3.3537, 3.3324, 3.3302, 3.3037\n",
            "\n",
            "Best-performing attacks over slice: \"CLASS=2\"\n",
            "  THRESHOLD_ATTACK (with 5000 training and 1000 test examples) achieved an AUC of 0.62\n",
            "  THRESHOLD_ATTACK (with 5000 training and 1000 test examples) achieved an advantage of 0.25\n",
            "  LOGISTIC_REGRESSION (with 5000 training and 1000 test examples) achieved a positive predictive value of 0.88\n",
            "  THRESHOLD_ATTACK (with 5000 training and 1000 test examples) achieved top-5 epsilon lower bounds of 3.6255, 3.5767, 3.5254, 3.4714, 3.4143\n",
            "\n",
            "Best-performing attacks over slice: \"CLASS=3\"\n",
            "  THRESHOLD_ATTACK (with 5000 training and 1000 test examples) achieved an AUC of 0.67\n",
            "  THRESHOLD_ATTACK (with 5000 training and 1000 test examples) achieved an advantage of 0.27\n",
            "  LOGISTIC_REGRESSION (with 5000 training and 1000 test examples) achieved a positive predictive value of 0.93\n",
            "  THRESHOLD_ATTACK (with 5000 training and 1000 test examples) achieved top-5 epsilon lower bounds of 4.3878, 4.3653, 4.3423, 4.3187, 4.2946\n",
            "\n",
            "Best-performing attacks over slice: \"CLASS=4\"\n",
            "  THRESHOLD_ATTACK (with 5000 training and 1000 test examples) achieved an AUC of 0.63\n",
            "  THRESHOLD_ATTACK (with 5000 training and 1000 test examples) achieved an advantage of 0.22\n",
            "  LOGISTIC_REGRESSION (with 5000 training and 1000 test examples) achieved a positive predictive value of 1.00\n",
            "  LOGISTIC_REGRESSION (with 5000 training and 1000 test examples) achieved top-5 epsilon lower bounds of 3.6227, 3.5860, 3.5838, 3.5575, 3.5480\n",
            "\n",
            "Best-performing attacks over slice: \"CLASS=5\"\n",
            "  LOGISTIC_REGRESSION (with 5000 training and 1000 test examples) achieved an AUC of 0.65\n",
            "  THRESHOLD_ATTACK (with 5000 training and 1000 test examples) achieved an advantage of 0.23\n",
            "  THRESHOLD_ATTACK (with 5000 training and 1000 test examples) achieved a positive predictive value of 1.00\n",
            "  LOGISTIC_REGRESSION (with 5000 training and 1000 test examples) achieved top-5 epsilon lower bounds of 2.5811, 2.4741, 2.3545, 2.3455, 2.3428\n",
            "\n",
            "Best-performing attacks over slice: \"CLASS=6\"\n",
            "  THRESHOLD_ATTACK (with 5000 training and 1000 test examples) achieved an AUC of 0.55\n",
            "  THRESHOLD_ATTACK (with 5000 training and 1000 test examples) achieved an advantage of 0.13\n",
            "  LOGISTIC_REGRESSION (with 5000 training and 1000 test examples) achieved a positive predictive value of 0.90\n",
            "  LOGISTIC_REGRESSION (with 5000 training and 1000 test examples) achieved top-5 epsilon lower bounds of 3.6255, 3.5767, 3.5254, 3.5084, 3.4714\n",
            "\n",
            "Best-performing attacks over slice: \"CLASS=7\"\n",
            "  LOGISTIC_REGRESSION (with 5000 training and 1000 test examples) achieved an AUC of 0.61\n",
            "  THRESHOLD_ATTACK (with 5000 training and 1000 test examples) achieved an advantage of 0.19\n",
            "  LOGISTIC_REGRESSION (with 5000 training and 1000 test examples) achieved a positive predictive value of 1.00\n",
            "  LOGISTIC_REGRESSION (with 5000 training and 1000 test examples) achieved top-5 epsilon lower bounds of 3.6581, 3.6227, 3.5860, 3.5480, 3.5084\n",
            "\n",
            "Best-performing attacks over slice: \"CLASS=8\"\n",
            "  LOGISTIC_REGRESSION (with 5000 training and 1000 test examples) achieved an AUC of 0.63\n",
            "  LOGISTIC_REGRESSION (with 5000 training and 1000 test examples) achieved an advantage of 0.20\n",
            "  LOGISTIC_REGRESSION (with 5000 training and 1000 test examples) achieved a positive predictive value of 1.00\n",
            "  THRESHOLD_ATTACK (with 5000 training and 1000 test examples) achieved top-5 epsilon lower bounds of 3.6581, 3.6227, 3.5860, 3.5480, 3.5084\n",
            "\n",
            "Best-performing attacks over slice: \"CLASS=9\"\n",
            "  LOGISTIC_REGRESSION (with 5000 training and 1000 test examples) achieved an AUC of 0.59\n",
            "  LOGISTIC_REGRESSION (with 5000 training and 1000 test examples) achieved an advantage of 0.17\n",
            "  THRESHOLD_ATTACK (with 5000 training and 1000 test examples) achieved a positive predictive value of 0.87\n",
            "  LOGISTIC_REGRESSION (with 5000 training and 1000 test examples) achieved top-5 epsilon lower bounds of 3.5480, 3.5084, 3.4672, 3.4445, 3.4243\n",
            "\n",
            "Best-performing attacks over slice: \"CORRECTLY_CLASSIFIED=True\"\n",
            "  LOGISTIC_REGRESSION (with 44886 training and 7161 test examples) achieved an AUC of 0.51\n",
            "  THRESHOLD_ATTACK (with 44886 training and 7161 test examples) achieved an advantage of 0.04\n",
            "  LOGISTIC_REGRESSION (with 44886 training and 7161 test examples) achieved a positive predictive value of 0.98\n",
            "  LOGISTIC_REGRESSION (with 44886 training and 7161 test examples) achieved top-5 epsilon lower bounds of 0.9476, 0.9360, 0.9242, 0.9123, 0.9002\n",
            "\n",
            "Best-performing attacks over slice: \"CORRECTLY_CLASSIFIED=False\"\n",
            "  LOGISTIC_REGRESSION (with 5114 training and 2839 test examples) achieved an AUC of 0.72\n",
            "  THRESHOLD_ATTACK (with 5114 training and 2839 test examples) achieved an advantage of 0.34\n",
            "  THRESHOLD_ATTACK (with 5114 training and 2839 test examples) achieved a positive predictive value of 1.00\n",
            "  THRESHOLD_ATTACK (with 5114 training and 2839 test examples) achieved top-5 epsilon lower bounds of 3.7643, 3.7493, 3.7340, 3.7185, 3.7028\n"
          ]
        }
      ],
      "source": [
        "# summary by data slice (the best performing attacks per slice are presented)\n",
        "print(attacks_result.summary(by_slices=True))"
      ]
    },
    {
      "cell_type": "code",
      "execution_count": 30,
      "metadata": {
        "colab": {
          "base_uri": "https://localhost:8080/",
          "height": 297
        },
        "id": "NbUtwr_fdl26",
        "outputId": "f4b6a25f-39eb-4508-acb9-a63290c1df63"
      },
      "outputs": [
        {
          "name": "stdout",
          "output_type": "stream",
          "text": [
            "Figure(640x480)\n",
            "attacks_result.get_result_with_max_auc():  SingleAttackResult(\n",
            "  SliceSpec: CORRECTLY_CLASSIFIED=False\n",
            "  DataSize: (ntrain=5114, ntest=2839)\n",
            "  AttackType: LOGISTIC_REGRESSION\n",
            "  AUC: 0.72\n",
            "  Attacker advantage: 0.34\n",
            "  Positive Predictive Value: 0.90\n",
            "  Epsilon lower bound: 3.5224, 3.5079, 3.4933, 3.4914, 3.4784\n",
            ")\n",
            "attacks_result.get_result_with_max_auc().roc_curve:  RocCurve(\n",
            "  AUC: 0.72\n",
            "  Attacker advantage: 0.34\n",
            "  Positive predictive value: 0.90\n",
            ")\n",
            "attacks_result.get_result_with_max_attacker_advantage():  SingleAttackResult(\n",
            "  SliceSpec: CORRECTLY_CLASSIFIED=False\n",
            "  DataSize: (ntrain=5114, ntest=2839)\n",
            "  AttackType: THRESHOLD_ATTACK\n",
            "  AUC: 0.72\n",
            "  Attacker advantage: 0.34\n",
            "  Positive Predictive Value: 1.00\n",
            "  Epsilon lower bound: 3.7643, 3.7493, 3.7340, 3.7185, 3.7028\n",
            ")\n"
          ]
        },
        {
          "data": {
            "image/png": "[encoded data removed]",
            "text/plain": [
              "<Figure size 640x480 with 1 Axes>"
            ]
          },
          "metadata": {},
          "output_type": "display_data"
        }
      ],
      "source": [
        "# plot the curve, we see that the attacker is much better than random guessing\n",
        "import tensorflow_privacy.privacy.membership_inference_attack.plotting as plotting\n",
        "print(plotting.plot_roc_curve(attacks_result.get_result_with_max_auc().roc_curve))\n",
        "\n",
        "# Print the advantage value\n",
        "print(\"attacks_result.get_result_with_max_auc(): \", attacks_result.get_result_with_max_auc())\n",
        "\n",
        "print(\"attacks_result.get_result_with_max_auc().roc_curve: \", attacks_result.get_result_with_max_auc().roc_curve)\n",
        "print(\"attacks_result.get_result_with_max_attacker_advantage(): \", attacks_result.get_result_with_max_attacker_advantage())"
      ]
    }
  ],
  "metadata": {
    "accelerator": "GPU",
    "colab": {
      "collapsed_sections": [],
      "name": "tensorflow_privacy_membership_inference_attacks",
      "provenance": [],
      "toc_visible": true
    },
    "kernelspec": {
      "display_name": "Python 3",
      "name": "python3"
    },
    "language_info": {
      "codemirror_mode": {
        "name": "ipython",
        "version": 3
      },
      "file_extension": ".py",
      "mimetype": "text/x-python",
      "name": "python",
      "nbconvert_exporter": "python",
      "pygments_lexer": "ipython3",
      "version": "3.9.19"
    }
  },
  "nbformat": 4,
  "nbformat_minor": 0
}
